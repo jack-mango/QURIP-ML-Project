{
 "cells": [
  {
   "cell_type": "code",
   "execution_count": null,
   "metadata": {},
   "outputs": [],
   "source": [
    "from greenMLAnalysis import greenMLAnalysis\n",
    "from blueMLAnalysis import blueMLAnalysis\n",
    "import os\n",
    "from tensorflow.keras import models, optimizers, layers, metrics"
   ]
  },
  {
   "cell_type": "markdown",
   "metadata": {},
   "source": [
    "## Making a Neural Network"
   ]
  },
  {
   "cell_type": "markdown",
   "metadata": {},
   "source": [
    "Use the following code to create a neural network from scratch. I found this architecture to work particularly well for training on green imaging data. Note that you may need to adjust the input shape if the input image changes shape."
   ]
  },
  {
   "cell_type": "code",
   "execution_count": null,
   "metadata": {},
   "outputs": [],
   "source": [
    "model_path = os.path.join(\"example_models\", \"green_model.h5\")"
   ]
  },
  {
   "cell_type": "code",
   "execution_count": null,
   "metadata": {},
   "outputs": [],
   "source": [
    "network = models.Sequential()\n",
    "network.add(layers.Input(shape=(17, 17, 1))) # Usually the input is 17 x 17 px\n",
    "network.add(layers.RandomFlip())\n",
    "network.add(layers.RandomBrightness(0.2, (0, 500)))\n",
    "network.add(layers.RandomContrast(0.2))\n",
    "network.add(layers.Normalization())\n",
    "network.add(layers.Conv2D(16, 3, strides=1, activation='relu', padding='same'))\n",
    "network.add(layers.BatchNormalization())\n",
    "network.add(layers.MaxPooling2D(pool_size=(2, 2), strides=2))\n",
    "network.add(layers.Conv2D(8, 3, strides=1, activation='relu', padding='same'))\n",
    "network.add(layers.BatchNormalization())\n",
    "network.add(layers.Flatten())\n",
    "network.add(layers.Dense(2, activation='sigmoid'))\n",
    "\n",
    "network.compile(optimizer=optimizers.Adam(learning_rate=1e-4), loss='binary_crossentropy',\n",
    "               metrics=['binary_accuracy'])\n",
    "network.save(model_path)\n"
   ]
  },
  {
   "cell_type": "markdown",
   "metadata": {},
   "source": [
    "# Green Analysis Demo"
   ]
  },
  {
   "cell_type": "code",
   "execution_count": null,
   "metadata": {},
   "outputs": [],
   "source": [
    "data_path = os.path.join(\"example_data\", \"green_training\")\n",
    "n_tweezers = 50\n",
    "n_loops = 20"
   ]
  },
  {
   "cell_type": "code",
   "execution_count": null,
   "metadata": {},
   "outputs": [],
   "source": [
    "analysis = greenMLAnalysis(n_tweezers, n_loops, model_path, make_plots=True, r_atom=2.5)"
   ]
  },
  {
   "cell_type": "code",
   "execution_count": null,
   "metadata": {},
   "outputs": [],
   "source": [
    "analysis.train_model(data_path, model_path=model_path)"
   ]
  },
  {
   "cell_type": "code",
   "execution_count": null,
   "metadata": {},
   "outputs": [],
   "source": [
    "positions, p_db, p_bd, fig = analysis.fidelity_analysis(data_path)"
   ]
  },
  {
   "cell_type": "markdown",
   "metadata": {},
   "source": [
    "# Blue Analysis Demo"
   ]
  },
  {
   "cell_type": "markdown",
   "metadata": {},
   "source": [
    "The neural network architecture below seems to work particularly well for blue imaging. "
   ]
  },
  {
   "cell_type": "code",
   "execution_count": null,
   "metadata": {},
   "outputs": [],
   "source": [
    "model_path = os.path.join(\"example_models\", \"blue_model.h5\")"
   ]
  },
  {
   "cell_type": "code",
   "execution_count": null,
   "metadata": {},
   "outputs": [],
   "source": [
    "network = models.Sequential()\n",
    "network.add(layers.Input(shape=(17, 17, 1))) # Usually the input is 17 x 17 px\n",
    "network.add(layers.RandomFlip())\n",
    "network.add(layers.Normalization())\n",
    "network.add(layers.Conv2D(32, 3, strides=1, activation='relu', padding='same'))\n",
    "network.add(layers.BatchNormalization())\n",
    "network.add(layers.MaxPooling2D(pool_size=(2, 2), strides=2))\n",
    "network.add(layers.Conv2D(16, 3, strides=1, activation='relu', padding='same'))\n",
    "network.add(layers.BatchNormalization())\n",
    "network.add(layers.Flatten())\n",
    "network.add(layers.Dense(2, activation='sigmoid'))\n",
    "\n",
    "network.compile(optimizer=optimizers.Adam(learning_rate=1e-4), loss='binary_crossentropy',\n",
    "               metrics=['binary_accuracy'])\n",
    "network.save(model_path)"
   ]
  },
  {
   "cell_type": "code",
   "execution_count": null,
   "metadata": {},
   "outputs": [],
   "source": [
    "data_path = os.path.join(\"example_data\", \"blue_training\")\n",
    "green_model_path = os.path.join(\"example_models\", \"green_model.h5\")\n",
    "blue_model_path = model_path = os.path.join(\"example_models\", \"blue_model.h5\")"
   ]
  },
  {
   "cell_type": "code",
   "execution_count": null,
   "metadata": {},
   "outputs": [],
   "source": [
    "analysis = blueMLAnalysis(100, blue_model_path, make_plots=False)"
   ]
  },
  {
   "cell_type": "code",
   "execution_count": null,
   "metadata": {},
   "outputs": [],
   "source": [
    "data_path"
   ]
  },
  {
   "cell_type": "code",
   "execution_count": null,
   "metadata": {},
   "outputs": [],
   "source": [
    "analysis.train_model(data_path, green_model_path)"
   ]
  }
 ],
 "metadata": {
  "kernelspec": {
   "display_name": "base",
   "language": "python",
   "name": "python3"
  },
  "language_info": {
   "codemirror_mode": {
    "name": "ipython",
    "version": 3
   },
   "file_extension": ".py",
   "mimetype": "text/x-python",
   "name": "python",
   "nbconvert_exporter": "python",
   "pygments_lexer": "ipython3",
   "version": "3.8.16"
  },
  "orig_nbformat": 4
 },
 "nbformat": 4,
 "nbformat_minor": 2
}
